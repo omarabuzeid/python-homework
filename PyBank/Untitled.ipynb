{
 "cells": [
  {
   "cell_type": "code",
   "execution_count": 12,
   "metadata": {},
   "outputs": [],
   "source": [
    "import pandas as pd\n",
    "from pathlib import Path"
   ]
  },
  {
   "cell_type": "code",
   "execution_count": 13,
   "metadata": {},
   "outputs": [],
   "source": [
    "import csv"
   ]
  },
  {
   "cell_type": "code",
   "execution_count": 14,
   "metadata": {},
   "outputs": [],
   "source": [
    " csvpath = Path(\"Documents/GitHub/python-homework/PyBank/budget_data.csv\")"
   ]
  },
  {
   "cell_type": "code",
   "execution_count": 15,
   "metadata": {},
   "outputs": [
    {
     "data": {
      "text/html": [
       "<div>\n",
       "<style scoped>\n",
       "    .dataframe tbody tr th:only-of-type {\n",
       "        vertical-align: middle;\n",
       "    }\n",
       "\n",
       "    .dataframe tbody tr th {\n",
       "        vertical-align: top;\n",
       "    }\n",
       "\n",
       "    .dataframe thead th {\n",
       "        text-align: right;\n",
       "    }\n",
       "</style>\n",
       "<table border=\"1\" class=\"dataframe\">\n",
       "  <thead>\n",
       "    <tr style=\"text-align: right;\">\n",
       "      <th></th>\n",
       "      <th>Date</th>\n",
       "      <th>Profit/Losses</th>\n",
       "    </tr>\n",
       "  </thead>\n",
       "  <tbody>\n",
       "    <tr>\n",
       "      <th>0</th>\n",
       "      <td>Jan-2010</td>\n",
       "      <td>867884</td>\n",
       "    </tr>\n",
       "    <tr>\n",
       "      <th>1</th>\n",
       "      <td>Feb-2010</td>\n",
       "      <td>984655</td>\n",
       "    </tr>\n",
       "    <tr>\n",
       "      <th>2</th>\n",
       "      <td>Mar-2010</td>\n",
       "      <td>322013</td>\n",
       "    </tr>\n",
       "    <tr>\n",
       "      <th>3</th>\n",
       "      <td>Apr-2010</td>\n",
       "      <td>-69417</td>\n",
       "    </tr>\n",
       "    <tr>\n",
       "      <th>4</th>\n",
       "      <td>May-2010</td>\n",
       "      <td>310503</td>\n",
       "    </tr>\n",
       "  </tbody>\n",
       "</table>\n",
       "</div>"
      ],
      "text/plain": [
       "       Date  Profit/Losses\n",
       "0  Jan-2010         867884\n",
       "1  Feb-2010         984655\n",
       "2  Mar-2010         322013\n",
       "3  Apr-2010         -69417\n",
       "4  May-2010         310503"
      ]
     },
     "execution_count": 15,
     "metadata": {},
     "output_type": "execute_result"
    }
   ],
   "source": [
    "budget_data = pd.read_csv(csvpath)\n",
    "budget_data.head()"
   ]
  },
  {
   "cell_type": "code",
   "execution_count": 55,
   "metadata": {},
   "outputs": [
    {
     "name": "stdout",
     "output_type": "stream",
     "text": [
      "average profit/loss: Profit/Losses    446309.046512\n",
      "sum              446309.046512\n",
      "dtype: float64\n",
      "Sum of profit/loss: Date             Jan-2010Feb-2010Mar-2010Apr-2010May-2010Jun-20...\n",
      "Profit/Losses                                             38382578\n",
      "sum                                                       38382578\n",
      "dtype: object\n",
      "Max profit/loss: Date             Sep-2016\n",
      "Profit/Losses     1170593\n",
      "sum               1170593\n",
      "dtype: object\n",
      "Min profit/loss: Date             Apr-2010\n",
      "Profit/Losses    -1196225\n",
      "sum              -1196225\n",
      "dtype: object\n",
      "Count of months: Date             86\n",
      "Profit/Losses    86\n",
      "sum              86\n",
      "dtype: int64\n",
      "Median profit/loss: Profit/Losses    570328.0\n",
      "sum              570328.0\n",
      "dtype: float64\n",
      "Std of profit/loss: Profit/Losses    536357.947941\n",
      "sum              536357.947941\n",
      "dtype: float64\n",
      "Var of profit/loss: Profit/Losses    2.876798e+11\n",
      "sum              2.876798e+11\n",
      "dtype: float64\n"
     ]
    }
   ],
   "source": [
    "mean1 = budget_data.mean()\n",
    "sum1 = budget_data.sum()\n",
    "max1 = budget_data.max()\n",
    "min1 = budget_data.min()\n",
    "count1 = budget_data.count()\n",
    "median1 = budget_data.median() \n",
    "std1 = budget_data.std() \n",
    "var1 = budget_data.var() \n",
    "\n",
    "\n",
    "print ('average profit/loss: ' + str(mean1))\n",
    "print ('Sum of profit/loss: ' + str(sum1))\n",
    "print ('Max profit/loss: ' + str(max1))\n",
    "print ('Min profit/loss: ' + str(min1))\n",
    "print ('Count of months: ' + str(count1))\n",
    "print ('Median profit/loss: ' + str(median1))\n",
    "print ('Std of profit/loss: ' + str(std1))\n",
    "print ('Var of profit/loss: ' + str(var1))"
   ]
  },
  {
   "cell_type": "code",
   "execution_count": null,
   "metadata": {},
   "outputs": [],
   "source": []
  }
 ],
 "metadata": {
  "kernelspec": {
   "display_name": "Python 3",
   "language": "python",
   "name": "python3"
  },
  "language_info": {
   "codemirror_mode": {
    "name": "ipython",
    "version": 3
   },
   "file_extension": ".py",
   "mimetype": "text/x-python",
   "name": "python",
   "nbconvert_exporter": "python",
   "pygments_lexer": "ipython3",
   "version": "3.8.5"
  }
 },
 "nbformat": 4,
 "nbformat_minor": 4
}
